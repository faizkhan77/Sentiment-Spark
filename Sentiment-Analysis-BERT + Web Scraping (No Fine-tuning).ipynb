{
 "cells": [
  {
   "cell_type": "markdown",
   "id": "e1d94982-0a3d-4f6d-a595-93eb0dc4587f",
   "metadata": {},
   "source": [
    "# **1 . Import Dependencies**"
   ]
  },
  {
   "cell_type": "code",
   "execution_count": 33,
   "id": "71eeff79-ef0b-4b9c-a5e9-59bea094eeb0",
   "metadata": {},
   "outputs": [],
   "source": [
    "import pandas as pd\n",
    "import numpy as np\n",
    "import torch\n",
    "import requests\n",
    "import re\n",
    "from bs4 import BeautifulSoup\n",
    "from transformers import AutoTokenizer, AutoModelForSequenceClassification"
   ]
  },
  {
   "cell_type": "markdown",
   "id": "27915f37-2de0-4397-b05a-f0dbb2bcaa14",
   "metadata": {},
   "source": [
    "# **2. Instantiate Model and Tokenizer**"
   ]
  },
  {
   "cell_type": "markdown",
   "id": "ac10a01f-9233-4046-97ef-fb00233dc663",
   "metadata": {},
   "source": [
    "This is a `bert-base-multilingual-uncased` model finetuned for sentiment analysis on product reviews in six languages: English, Dutch, German, French, Spanish, and Italian. It predicts the sentiment of the review as a number of stars (between 1 and 5).\n",
    "\n",
    "This model is intended for direct use as a sentiment analysis model for product reviews in any of the six languages above or for further finetuning on related sentiment analysis tasks."
   ]
  },
  {
   "cell_type": "code",
   "execution_count": 6,
   "id": "7b0f2cb2-11c3-450f-ada6-052316e5d04b",
   "metadata": {},
   "outputs": [],
   "source": [
    "model_name = \"nlptown/bert-base-multilingual-uncased-sentiment\"\n",
    "tokenizer = AutoTokenizer.from_pretrained(model_name)\n",
    "model = AutoModelForSequenceClassification.from_pretrained(model_name)"
   ]
  },
  {
   "cell_type": "markdown",
   "id": "f60a760a-2fa9-4133-b567-1e5e0a30519f",
   "metadata": {},
   "source": [
    "# **3. Encode and Calculate Sentiment**"
   ]
  },
  {
   "cell_type": "markdown",
   "id": "3d170734-24dc-405a-a77f-faf594f54de3",
   "metadata": {},
   "source": [
    "We can use `tokenizer.encode()` to tokenize a sentence, it will basically first seperate each word in a sentence as tokens and convert each tokens (word) into an integer which is basically the index ids that maps to the word embeddings"
   ]
  },
  {
   "cell_type": "code",
   "execution_count": 7,
   "id": "702d6086-13c7-422b-83c2-4dd360fedd8c",
   "metadata": {},
   "outputs": [
    {
     "data": {
      "text/plain": [
       "[101, 151, 46747, 10197, 102]"
      ]
     },
     "execution_count": 7,
     "metadata": {},
     "output_type": "execute_result"
    }
   ],
   "source": [
    "tokens = tokenizer.encode(\"I loved it\") \n",
    "tokens # returns input ids of each word, thats mapped to the word embeddings"
   ]
  },
  {
   "cell_type": "markdown",
   "id": "432710b0-f005-4a22-84df-4de350b2ba44",
   "metadata": {},
   "source": [
    "To get back the original sentence we can simply decode it, along with the special tokens"
   ]
  },
  {
   "cell_type": "code",
   "execution_count": 8,
   "id": "eb48e129-964b-4e0c-b6b1-c35aa2a5f217",
   "metadata": {},
   "outputs": [
    {
     "data": {
      "text/plain": [
       "'[CLS] i loved it [SEP]'"
      ]
     },
     "execution_count": 8,
     "metadata": {},
     "output_type": "execute_result"
    }
   ],
   "source": [
    "tokenizer.decode(tokens) # back to readable sentence along with the special tokens"
   ]
  },
  {
   "cell_type": "markdown",
   "id": "1fad9e1c-c1bb-47c3-aa58-669db47cdc33",
   "metadata": {},
   "source": [
    "We can specify what format we want the encoded tokens to be using `return_tensors`, and either pass `tf` for Tensorflow tensors or `pt` for PyTorch tensors"
   ]
  },
  {
   "cell_type": "code",
   "execution_count": 9,
   "id": "65b54265-f4a9-495d-99c5-70731cef76e8",
   "metadata": {},
   "outputs": [
    {
     "data": {
      "text/plain": [
       "tensor([[  101,   151, 46747, 10197,   102]])"
      ]
     },
     "execution_count": 9,
     "metadata": {},
     "output_type": "execute_result"
    }
   ],
   "source": [
    "tokens = tokenizer.encode(\"I loved it\", return_tensors='pt') \n",
    "tokens "
   ]
  },
  {
   "cell_type": "markdown",
   "id": "d93d4469-1aee-4019-b9ee-48b882057ab4",
   "metadata": {},
   "source": [
    "Since it returns us 2D tensors we need to put `[0]` when decoding"
   ]
  },
  {
   "cell_type": "code",
   "execution_count": 10,
   "id": "b2a14a02-0910-4a01-8c71-a4df6151daf1",
   "metadata": {},
   "outputs": [
    {
     "data": {
      "text/plain": [
       "'[CLS] i loved it [SEP]'"
      ]
     },
     "execution_count": 10,
     "metadata": {},
     "output_type": "execute_result"
    }
   ],
   "source": [
    "tokenizer.decode(tokens[0])"
   ]
  },
  {
   "cell_type": "markdown",
   "id": "73973b84-2deb-4371-909c-1e4ae9446b5b",
   "metadata": {},
   "source": [
    "So we can now pass the tokens as input to the Model and it will return the Probability of the 5 class (from 1 to 5), the one with the highest probability is our actual output"
   ]
  },
  {
   "cell_type": "code",
   "execution_count": 11,
   "id": "faed1606-7691-4462-99d6-7c0fa82cc34e",
   "metadata": {},
   "outputs": [
    {
     "data": {
      "text/plain": [
       "SequenceClassifierOutput(loss=None, logits=tensor([[-2.1030, -1.9658, -0.2264,  1.3489,  2.2864]],\n",
       "       grad_fn=<AddmmBackward0>), hidden_states=None, attentions=None)"
      ]
     },
     "execution_count": 11,
     "metadata": {},
     "output_type": "execute_result"
    }
   ],
   "source": [
    "res = model(tokens)\n",
    "res"
   ]
  },
  {
   "cell_type": "code",
   "execution_count": 12,
   "id": "f384182d-32e9-4ffe-b397-2d37be1f3768",
   "metadata": {},
   "outputs": [
    {
     "data": {
      "text/plain": [
       "tensor([[-2.1030, -1.9658, -0.2264,  1.3489,  2.2864]],\n",
       "       grad_fn=<AddmmBackward0>)"
      ]
     },
     "execution_count": 12,
     "metadata": {},
     "output_type": "execute_result"
    }
   ],
   "source": [
    "res.logits"
   ]
  },
  {
   "cell_type": "markdown",
   "id": "2ce2fb00-5fec-4c47-a02d-bc4865c3075a",
   "metadata": {},
   "source": [
    "So we can simply use `torch.argmax()` to get the highest value index, however, we need to `+ 1` because the index starts from 0, but our scale is from **1 to 5**, not 0 to 4"
   ]
  },
  {
   "cell_type": "code",
   "execution_count": 13,
   "id": "5879df3f-7d19-42ca-9900-7145af96a3ba",
   "metadata": {},
   "outputs": [
    {
     "data": {
      "text/plain": [
       "tensor(5)"
      ]
     },
     "execution_count": 13,
     "metadata": {},
     "output_type": "execute_result"
    }
   ],
   "source": [
    "torch.argmax(res.logits)+1"
   ]
  },
  {
   "cell_type": "markdown",
   "id": "c296ddbf-bdf9-43cb-9eaf-fd549fea42d8",
   "metadata": {},
   "source": [
    "So on the scale of 1 to 5, the sentiment output is 5 which made sense as our sentence was \"I loved it\""
   ]
  },
  {
   "cell_type": "markdown",
   "id": "754fc729-aa14-456e-be18-d3dd053e197b",
   "metadata": {},
   "source": [
    "# **4. Scrap Reviews from websites**"
   ]
  },
  {
   "cell_type": "markdown",
   "id": "199cac32-d7e3-4b6b-86fd-9ae13e30c837",
   "metadata": {},
   "source": [
    "I will scrap the reviews from this website, it has only 7 reviews but oh well, \n",
    "\n",
    "basically the reviews are inside the `<header>` tags which is inside a div tag with a class \"author\" "
   ]
  },
  {
   "cell_type": "code",
   "execution_count": 17,
   "id": "7b53bd08-d849-42d0-b384-9051d259ad26",
   "metadata": {},
   "outputs": [
    {
     "data": {
      "text/plain": [
       "['With the help of Kutchi-ITI I have substantially improved my understanding of Information Technology and Networking. Kutchi-ITI is simply an example of studying in a congenial environment.',\n",
       " 'Here at Kutchi-ITI, you meet all the good, friendly people - from students to lecturers. You enjoy freedom to think, to express yourself and to succeed.',\n",
       " 'The knowledge and skills I have gained at Kutchi-ITI will empower me to help others. I am very excited by what I can do and I have many ideas that I want to implement which will be useful to my country.',\n",
       " 'I feel Kutchi-ITI offered me the best opportunity for development of my skills in community interaction and development.',\n",
       " '“World in one Place” is not only a slogan but lived reality. The multicultural environment that is unique to Kutchi-ITI provides me with the opportunity to become friends with people from all different corners of the world.',\n",
       " 'Kutchi-ITI is a great institution. The staff and instructors are always helpful and are looking out for you. The atmosphere is great. All types of people including minorities and schedule caste students came to learn here.',\n",
       " 'Kutchi-ITI gives a great opportunity for students to broaden their knowledge beyond their field of studies within an international multicultural environment. Due to its mega diversity of cultures it makes the place interesting, exciting and vibrant.']"
      ]
     },
     "execution_count": 17,
     "metadata": {},
     "output_type": "execute_result"
    }
   ],
   "source": [
    "req = requests.get(\"https://www.kutchi-iti.com/2-testimonials.php\")\n",
    "soup = BeautifulSoup(req.text, 'html.parser')\n",
    "\n",
    "regex = re.compile('author')\n",
    "results = soup.find_all('div', {'class':regex})\n",
    "\n",
    "# Extract content inside <header> tags\n",
    "header_contents = [div.find('header').text.strip() for div in results if div.find('header')]\n",
    "\n",
    "header_contents"
   ]
  },
  {
   "cell_type": "code",
   "execution_count": 18,
   "id": "fe61c53a-715f-4ad2-acc4-2b748127ca61",
   "metadata": {},
   "outputs": [
    {
     "data": {
      "text/plain": [
       "7"
      ]
     },
     "execution_count": 18,
     "metadata": {},
     "output_type": "execute_result"
    }
   ],
   "source": [
    "len(header_contents)"
   ]
  },
  {
   "cell_type": "code",
   "execution_count": 19,
   "id": "b06da2a7-3839-4253-b07c-16278789e2a1",
   "metadata": {},
   "outputs": [
    {
     "data": {
      "text/plain": [
       "'With the help of Kutchi-ITI I have substantially improved my understanding of Information Technology and Networking. Kutchi-ITI is simply an example of studying in a congenial environment.'"
      ]
     },
     "execution_count": 19,
     "metadata": {},
     "output_type": "execute_result"
    }
   ],
   "source": [
    "header_contents[0]"
   ]
  },
  {
   "cell_type": "markdown",
   "id": "7265d504-042e-47cd-9c53-2c8b85b1fc70",
   "metadata": {},
   "source": [
    "# **5 Load the reviews into Pandas DataFrame**"
   ]
  },
  {
   "cell_type": "markdown",
   "id": "52936f94-bbb5-4e52-bf46-81de6e2bdd75",
   "metadata": {},
   "source": [
    "To make things easier, lets just load the reviews into a Pandas DataFrame"
   ]
  },
  {
   "cell_type": "code",
   "execution_count": 21,
   "id": "5848169f-e3b2-4fce-a2a6-1d260df61490",
   "metadata": {},
   "outputs": [
    {
     "data": {
      "text/html": [
       "<div>\n",
       "<style scoped>\n",
       "    .dataframe tbody tr th:only-of-type {\n",
       "        vertical-align: middle;\n",
       "    }\n",
       "\n",
       "    .dataframe tbody tr th {\n",
       "        vertical-align: top;\n",
       "    }\n",
       "\n",
       "    .dataframe thead th {\n",
       "        text-align: right;\n",
       "    }\n",
       "</style>\n",
       "<table border=\"1\" class=\"dataframe\">\n",
       "  <thead>\n",
       "    <tr style=\"text-align: right;\">\n",
       "      <th></th>\n",
       "      <th>review</th>\n",
       "    </tr>\n",
       "  </thead>\n",
       "  <tbody>\n",
       "    <tr>\n",
       "      <th>0</th>\n",
       "      <td>With the help of Kutchi-ITI I have substantial...</td>\n",
       "    </tr>\n",
       "    <tr>\n",
       "      <th>1</th>\n",
       "      <td>Here at Kutchi-ITI, you meet all the good, fri...</td>\n",
       "    </tr>\n",
       "    <tr>\n",
       "      <th>2</th>\n",
       "      <td>The knowledge and skills I have gained at Kutc...</td>\n",
       "    </tr>\n",
       "    <tr>\n",
       "      <th>3</th>\n",
       "      <td>I feel Kutchi-ITI offered me the best opportun...</td>\n",
       "    </tr>\n",
       "    <tr>\n",
       "      <th>4</th>\n",
       "      <td>“World in one Place” is not only a slogan but ...</td>\n",
       "    </tr>\n",
       "    <tr>\n",
       "      <th>5</th>\n",
       "      <td>Kutchi-ITI is a great institution. The staff a...</td>\n",
       "    </tr>\n",
       "    <tr>\n",
       "      <th>6</th>\n",
       "      <td>Kutchi-ITI gives a great opportunity for stude...</td>\n",
       "    </tr>\n",
       "  </tbody>\n",
       "</table>\n",
       "</div>"
      ],
      "text/plain": [
       "                                              review\n",
       "0  With the help of Kutchi-ITI I have substantial...\n",
       "1  Here at Kutchi-ITI, you meet all the good, fri...\n",
       "2  The knowledge and skills I have gained at Kutc...\n",
       "3  I feel Kutchi-ITI offered me the best opportun...\n",
       "4  “World in one Place” is not only a slogan but ...\n",
       "5  Kutchi-ITI is a great institution. The staff a...\n",
       "6  Kutchi-ITI gives a great opportunity for stude..."
      ]
     },
     "execution_count": 21,
     "metadata": {},
     "output_type": "execute_result"
    }
   ],
   "source": [
    "df = pd.DataFrame(header_contents, columns=['review'])\n",
    "df"
   ]
  },
  {
   "cell_type": "markdown",
   "id": "596dd60a-519e-4248-aa9c-5e9bfbd88e13",
   "metadata": {},
   "source": [
    "To get any particular review we can use `loc[index]`"
   ]
  },
  {
   "cell_type": "code",
   "execution_count": 32,
   "id": "e736cd0f-7fac-4d90-9e9e-673cb585abd0",
   "metadata": {},
   "outputs": [
    {
     "data": {
      "text/plain": [
       "'With the help of Kutchi-ITI I have substantially improved my understanding of Information Technology and Networking. Kutchi-ITI is simply an example of studying in a congenial environment.'"
      ]
     },
     "execution_count": 32,
     "metadata": {},
     "output_type": "execute_result"
    }
   ],
   "source": [
    "df.review.loc[0]"
   ]
  },
  {
   "cell_type": "markdown",
   "id": "29a16c2b-e689-42be-acd3-70f4fcf9dd25",
   "metadata": {},
   "source": [
    "Now we will create a function that simply Tokenize the reviews and do predictions"
   ]
  },
  {
   "cell_type": "code",
   "execution_count": 38,
   "id": "1eae3bce-c855-4adf-8d83-7096588250de",
   "metadata": {},
   "outputs": [],
   "source": [
    "def sentiment_analyse(review):\n",
    "    tokens = tokenizer.encode(review, return_tensors='pt')\n",
    "    result = torch.argmax(model(tokens).logits)+1\n",
    "    return int(result)"
   ]
  },
  {
   "cell_type": "code",
   "execution_count": 39,
   "id": "22bc5531-a8c6-4c56-94be-3155d86ee364",
   "metadata": {},
   "outputs": [
    {
     "data": {
      "text/plain": [
       "5"
      ]
     },
     "execution_count": 39,
     "metadata": {},
     "output_type": "execute_result"
    }
   ],
   "source": [
    "sentiment_analyse(df.review.loc[0])"
   ]
  },
  {
   "cell_type": "markdown",
   "id": "c0ba4abf-9d08-4809-a7a9-b8d9a4a3cccc",
   "metadata": {},
   "source": [
    "Lets do it on all the reviews"
   ]
  },
  {
   "cell_type": "code",
   "execution_count": 43,
   "id": "2554edd5-0685-4b5e-94ec-5a3c2b2ad37e",
   "metadata": {},
   "outputs": [
    {
     "name": "stdout",
     "output_type": "stream",
     "text": [
      "Sentence: With the help of Kutchi-ITI I have substantially improved my understanding of Information Technology and Networking. Kutchi-ITI is simply an example of studying in a congenial environment. \n",
      "-Sentiment: 5\n",
      "Sentence: Here at Kutchi-ITI, you meet all the good, friendly people - from students to lecturers. You enjoy freedom to think, to express yourself and to succeed. \n",
      "-Sentiment: 5\n",
      "Sentence: The knowledge and skills I have gained at Kutchi-ITI will empower me to help others. I am very excited by what I can do and I have many ideas that I want to implement which will be useful to my country. \n",
      "-Sentiment: 5\n",
      "Sentence: I feel Kutchi-ITI offered me the best opportunity for development of my skills in community interaction and development. \n",
      "-Sentiment: 5\n",
      "Sentence: “World in one Place” is not only a slogan but lived reality. The multicultural environment that is unique to Kutchi-ITI provides me with the opportunity to become friends with people from all different corners of the world. \n",
      "-Sentiment: 5\n",
      "Sentence: Kutchi-ITI is a great institution. The staff and instructors are always helpful and are looking out for you. The atmosphere is great. All types of people including minorities and schedule caste students came to learn here. \n",
      "-Sentiment: 5\n",
      "Sentence: Kutchi-ITI gives a great opportunity for students to broaden their knowledge beyond their field of studies within an international multicultural environment. Due to its mega diversity of cultures it makes the place interesting, exciting and vibrant. \n",
      "-Sentiment: 5\n"
     ]
    }
   ],
   "source": [
    "for i in df.review:\n",
    "    print(\"Sentence: {} \\n-Sentiment: {}\".format(i,sentiment_analyse(i)))"
   ]
  },
  {
   "cell_type": "markdown",
   "id": "d36d0ab9-3526-448e-90bc-059f2640f2b7",
   "metadata": {},
   "source": [
    "So it predicted the sentiments properly as all the 7 reviews are highly positive, now lets add a column to the dataframe for sentiment of corresponding reviews"
   ]
  },
  {
   "cell_type": "code",
   "execution_count": 44,
   "id": "21f7efe0-b2e1-4a88-a076-1f415103e61c",
   "metadata": {},
   "outputs": [
    {
     "data": {
      "text/html": [
       "<div>\n",
       "<style scoped>\n",
       "    .dataframe tbody tr th:only-of-type {\n",
       "        vertical-align: middle;\n",
       "    }\n",
       "\n",
       "    .dataframe tbody tr th {\n",
       "        vertical-align: top;\n",
       "    }\n",
       "\n",
       "    .dataframe thead th {\n",
       "        text-align: right;\n",
       "    }\n",
       "</style>\n",
       "<table border=\"1\" class=\"dataframe\">\n",
       "  <thead>\n",
       "    <tr style=\"text-align: right;\">\n",
       "      <th></th>\n",
       "      <th>review</th>\n",
       "      <th>sentiment</th>\n",
       "    </tr>\n",
       "  </thead>\n",
       "  <tbody>\n",
       "    <tr>\n",
       "      <th>0</th>\n",
       "      <td>With the help of Kutchi-ITI I have substantial...</td>\n",
       "      <td>5</td>\n",
       "    </tr>\n",
       "    <tr>\n",
       "      <th>1</th>\n",
       "      <td>Here at Kutchi-ITI, you meet all the good, fri...</td>\n",
       "      <td>5</td>\n",
       "    </tr>\n",
       "    <tr>\n",
       "      <th>2</th>\n",
       "      <td>The knowledge and skills I have gained at Kutc...</td>\n",
       "      <td>5</td>\n",
       "    </tr>\n",
       "    <tr>\n",
       "      <th>3</th>\n",
       "      <td>I feel Kutchi-ITI offered me the best opportun...</td>\n",
       "      <td>5</td>\n",
       "    </tr>\n",
       "    <tr>\n",
       "      <th>4</th>\n",
       "      <td>“World in one Place” is not only a slogan but ...</td>\n",
       "      <td>5</td>\n",
       "    </tr>\n",
       "    <tr>\n",
       "      <th>5</th>\n",
       "      <td>Kutchi-ITI is a great institution. The staff a...</td>\n",
       "      <td>5</td>\n",
       "    </tr>\n",
       "    <tr>\n",
       "      <th>6</th>\n",
       "      <td>Kutchi-ITI gives a great opportunity for stude...</td>\n",
       "      <td>5</td>\n",
       "    </tr>\n",
       "  </tbody>\n",
       "</table>\n",
       "</div>"
      ],
      "text/plain": [
       "                                              review  sentiment\n",
       "0  With the help of Kutchi-ITI I have substantial...          5\n",
       "1  Here at Kutchi-ITI, you meet all the good, fri...          5\n",
       "2  The knowledge and skills I have gained at Kutc...          5\n",
       "3  I feel Kutchi-ITI offered me the best opportun...          5\n",
       "4  “World in one Place” is not only a slogan but ...          5\n",
       "5  Kutchi-ITI is a great institution. The staff a...          5\n",
       "6  Kutchi-ITI gives a great opportunity for stude...          5"
      ]
     },
     "execution_count": 44,
     "metadata": {},
     "output_type": "execute_result"
    }
   ],
   "source": [
    "df['sentiment'] = [sentiment_analyse(sentence) for sentence in df.review]\n",
    "df"
   ]
  },
  {
   "cell_type": "code",
   "execution_count": 46,
   "id": "fd5388a4-a47c-420a-a431-fbbdc96179b8",
   "metadata": {},
   "outputs": [
    {
     "data": {
      "text/plain": [
       "('artifacts/bert-tokenizer\\\\tokenizer_config.json',\n",
       " 'artifacts/bert-tokenizer\\\\special_tokens_map.json',\n",
       " 'artifacts/bert-tokenizer\\\\vocab.txt',\n",
       " 'artifacts/bert-tokenizer\\\\added_tokens.json',\n",
       " 'artifacts/bert-tokenizer\\\\tokenizer.json')"
      ]
     },
     "execution_count": 46,
     "metadata": {},
     "output_type": "execute_result"
    }
   ],
   "source": [
    "model.save_pretrained('artifacts/bert-model')\n",
    "tokenizer.save_pretrained('artifacts/bert-tokenizer')"
   ]
  },
  {
   "cell_type": "code",
   "execution_count": null,
   "id": "f5c4901a-f090-490b-b7eb-33cf565522d8",
   "metadata": {},
   "outputs": [],
   "source": []
  }
 ],
 "metadata": {
  "kernelspec": {
   "display_name": "Python 3 (ipykernel)",
   "language": "python",
   "name": "python3"
  },
  "language_info": {
   "codemirror_mode": {
    "name": "ipython",
    "version": 3
   },
   "file_extension": ".py",
   "mimetype": "text/x-python",
   "name": "python",
   "nbconvert_exporter": "python",
   "pygments_lexer": "ipython3",
   "version": "3.12.4"
  }
 },
 "nbformat": 4,
 "nbformat_minor": 5
}
